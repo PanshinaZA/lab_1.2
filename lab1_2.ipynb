{
  "nbformat": 4,
  "nbformat_minor": 0,
  "metadata": {
    "colab": {
      "provenance": []
    },
    "kernelspec": {
      "name": "python3",
      "display_name": "Python 3"
    },
    "language_info": {
      "name": "python"
    }
  },
  "cells": [
    {
      "cell_type": "markdown",
      "source": [
        "1. Рассчитать значение f при заданном значении вещественного числа x. При выводе на экран оставьте 2 знака после запятой"
      ],
      "metadata": {
        "id": "5R9RQL62uVMg"
      }
    },
    {
      "cell_type": "code",
      "execution_count": null,
      "metadata": {
        "id": "C2yF_8g1uNQi",
        "colab": {
          "base_uri": "https://localhost:8080/"
        },
        "outputId": "d041f553-94c2-45ce-d69c-8eda99c89225"
      },
      "outputs": [
        {
          "output_type": "stream",
          "name": "stdout",
          "text": [
            "x = 10\n",
            "f = 103.16\n"
          ]
        }
      ],
      "source": [
        "# Выполнила: Паньшина З.А.\n",
        "# Группа: АБП-231\n",
        "\n",
        "x = int(input(\"x = \"))\n",
        "\n",
        "if x >= 0:\n",
        "    f = round(x**0.5 + x**2, 2)\n",
        "else:\n",
        "    f = round(1 / x, 2)\n",
        "\n",
        "print(\"f =\", f)"
      ]
    },
    {
      "cell_type": "markdown",
      "source": [
        "2. Определите максимальное и минимальное значения из двух различных целых чисел."
      ],
      "metadata": {
        "id": "-bult0Q5uaL8"
      }
    },
    {
      "cell_type": "code",
      "source": [
        "# Выполнила: Паньшина З.А.\n",
        "# Группа: АБП-231\n",
        "# E-mail: PanshinaZA433@mgpu.ru\n",
        "\n",
        "a1 = int(input(\"Введите целое число а1: \"))\n",
        "a2 = int(input(\"Введите целое число а2: \"))\n",
        "\n",
        "if a1 < a2:\n",
        "  a_min = a1\n",
        "  a_max = a2\n",
        "  print(f\"Максимум: {a_max}, минимум: {a_min}\")\n",
        "else:\n",
        "  a_min = a2\n",
        "  a_max = a1\n",
        "  print(f\"Максимум: {a_max}, минимум: {a_min}\")"
      ],
      "metadata": {
        "id": "cIMZb13GudrV",
        "colab": {
          "base_uri": "https://localhost:8080/"
        },
        "outputId": "100d3821-3d20-41b2-e02b-c0c21d55f0b2"
      },
      "execution_count": 38,
      "outputs": [
        {
          "output_type": "stream",
          "name": "stdout",
          "text": [
            "Введите целое число а1: 1\n",
            "Введите целое число а2: 2\n",
            "Максимум: 2, минимум: 1\n"
          ]
        }
      ]
    },
    {
      "cell_type": "markdown",
      "source": [
        "3. Вася пытается высунуть голову в форточку размерами a и b см. Приняв условно, что его голова - круглая диаметром d см, определите, сможет ли Вася сделать это. Для прохождения головы в форточку необходим зазор в 1 см. с каждой стороны. Все величины - целые числа"
      ],
      "metadata": {
        "id": "3g6gRUzNuclI"
      }
    },
    {
      "cell_type": "code",
      "source": [
        "# Выполнила: Паньшина З.А.\n",
        "# Группа: АБП-231\n",
        "\n",
        "a = int(input(\"Ширина форточки: \"))\n",
        "b = int(input(\"Высота форточки: \"))\n",
        "d = int(input(\"Диаметр головы: \"))\n",
        "\n",
        "if a > 0 and b > 0 and d > 0:\n",
        "    fix = 1\n",
        "    if d <= a-fix and d <= b-fix:\n",
        "      print(\"Да\")\n",
        "    else:\n",
        "      print(\"Нет\")\n",
        "else:\n",
        "    print(\"Проверьте ввод\")"
      ],
      "metadata": {
        "id": "RFbYksCVuxgw",
        "colab": {
          "base_uri": "https://localhost:8080/"
        },
        "outputId": "efcde1aa-2193-4ffd-ccd5-28b05f9407c0"
      },
      "execution_count": null,
      "outputs": [
        {
          "output_type": "stream",
          "name": "stdout",
          "text": [
            "Ширина форточки: 6\n",
            "Высота форточки: 7\n",
            "Диаметр головы: 4\n",
            "Да\n"
          ]
        }
      ]
    },
    {
      "cell_type": "markdown",
      "source": [
        "4. Известны год и номер месяца сегодняшнего дня, а также год и номер месяца рождения человека (нумерация месяцев с 1: январь - 1 и т.д.). Определите возраст человека (число полных лет)."
      ],
      "metadata": {
        "id": "Z4EElj6-uxr-"
      }
    },
    {
      "cell_type": "code",
      "source": [
        "# Выполнила: Паньшина З.А.\n",
        "# Группа: АБП-231\n",
        "\n",
        "year_today = int(input(\"Введите текущий год: \"))\n",
        "month_today = int(input(\"Введите текущий месяц: \"))\n",
        "\n",
        "year = int(input(\"Введите год рождения: \"))\n",
        "month = int(input(\"Введите месяц рождения: \"))\n",
        "\n",
        "# Считается, введенные значения находятся в допустимых пределах,и\n",
        "# что 'month_today' >= 'month' (проверять значения не нужно)\n",
        "# Результат необходимо записать в переменную 'age'\n",
        "\n",
        "if month_today >= month:\n",
        "  age = year_today - year\n",
        "else:\n",
        "  age = year_today - year - 1\n",
        "\n",
        "print(\"Число полных лет: \", age)"
      ],
      "metadata": {
        "id": "zK-0aix8u1CS",
        "colab": {
          "base_uri": "https://localhost:8080/"
        },
        "outputId": "502cfa05-5035-4293-f481-4b172f8621fd"
      },
      "execution_count": 4,
      "outputs": [
        {
          "output_type": "stream",
          "name": "stdout",
          "text": [
            "Введите текущий год: 2020\n",
            "Введите текущий месяц: 5\n",
            "Введите год рождения: 2000\n",
            "Введите месяц рождения: 5\n",
            "Число полных лет:  20\n"
          ]
        }
      ]
    },
    {
      "cell_type": "markdown",
      "source": [
        "5. Дана точка с целыми ненулевыми координатами (x;y). Определить номер четверти координатной плоскости, которой она принадлежит."
      ],
      "metadata": {
        "id": "9a6IYGPuu1J6"
      }
    },
    {
      "cell_type": "code",
      "source": [
        "# Выполнила: Паньшина З.А.\n",
        "# Группа: АБП-231\n",
        "\n",
        "x = int(input(\"Введите координту x: \"))\n",
        "y = int(input(\"Введите координту y: \"))\n",
        "\n",
        "if x > 0 and y > 0:\n",
        "    print(\"1-я четверть\")\n",
        "elif x < 0 and y > 0:\n",
        "    print(\"2-я четверть\")\n",
        "elif x < 0 and y < 0:\n",
        "    print(\"3-я четверть\")\n",
        "else:\n",
        "    print(\"4-я четверть\")"
      ],
      "metadata": {
        "id": "w4mUEa7nu3l3",
        "colab": {
          "base_uri": "https://localhost:8080/"
        },
        "outputId": "9cbe5cd3-18c9-47a8-c4f1-04d0572fe77b"
      },
      "execution_count": 7,
      "outputs": [
        {
          "output_type": "stream",
          "name": "stdout",
          "text": [
            "Введите координту x: 5\n",
            "Введите координту y: 7\n",
            "1-я четверть\n"
          ]
        }
      ]
    },
    {
      "cell_type": "markdown",
      "source": [
        "6. Даны вещественные числа a, b, c (a≠0). Решите уравнение ax2+bx+c=0. При выводе значений оставьте 1 знак после запятой."
      ],
      "metadata": {
        "id": "Mi9S3p9Uu3vk"
      }
    },
    {
      "cell_type": "code",
      "source": [
        "# Выполнила: Паньшина З.А.\n",
        "# Группа: АБП-231\n",
        "\n",
        "a = int(input(\"a = \"))\n",
        "b = int(input(\"b = \"))\n",
        "c = int(input(\"c = \"))\n",
        "\n",
        "# Расчет дискриминанта\n",
        "d = ((b**2) - (4*a*c))\n",
        "\n",
        "if d > 0:\n",
        "  x1 = round(((-b - (d**(1/2)))/(2*a)), 1)\n",
        "  x2 = round(((-b + (d**(1/2)))/(2*a)), 1)\n",
        "  print(f\"x1 = {x1}, x2 = {x2}\")\n",
        "elif d == 0:\n",
        "  x = round((-b/(2*a)), 1)\n",
        "  print(\"x =\", x)\n",
        "else:\n",
        "  print(\"Решений нет\")"
      ],
      "metadata": {
        "id": "nw4sTcntu7Fz",
        "colab": {
          "base_uri": "https://localhost:8080/"
        },
        "outputId": "62e364e2-0835-4e35-ddee-e283fa8ef196"
      },
      "execution_count": 11,
      "outputs": [
        {
          "output_type": "stream",
          "name": "stdout",
          "text": [
            "a = 1\n",
            "b = 3\n",
            "c = -4\n",
            "x1 = -4.0, x2 = 1.0\n"
          ]
        }
      ]
    },
    {
      "cell_type": "markdown",
      "source": [
        "7. Дана непустая последовательность целых чисел, оканчивающаяся нулем. Найти сумму и количество введенных чисел."
      ],
      "metadata": {
        "id": "YNHNZN_ju7Vh"
      }
    },
    {
      "cell_type": "code",
      "source": [
        "# Выполнила: Паньшина З.А.\n",
        "# Группа: АБП-231\n",
        "\n",
        "nums_sum = 0  # сумма\n",
        "nums_count = 0  # количество\n",
        "\n",
        "n = 1\n",
        "x = int(input(f\"Введите {n}-е число: \"))\n",
        "while x != 0:\n",
        "    nums_sum = nums_sum + x\n",
        "    nums_count += 1\n",
        "    n += 1\n",
        "    x = int(input(f\"Введите {n}-е число: \"))\n",
        "print(\"Сумма =\", nums_sum)\n",
        "print(\"Количество =\", nums_count)"
      ],
      "metadata": {
        "id": "otqqupCau9TQ",
        "colab": {
          "base_uri": "https://localhost:8080/"
        },
        "outputId": "4554fb26-0312-400b-a667-c797c9563fce"
      },
      "execution_count": 26,
      "outputs": [
        {
          "output_type": "stream",
          "name": "stdout",
          "text": [
            "Введите 1-е число: 0\n",
            "Сумма = 0\n",
            "Количество = 0\n"
          ]
        }
      ]
    },
    {
      "cell_type": "markdown",
      "source": [
        "8. Дано число n. Из чисел 0,5,10,15,20,25,... напечатать те, которые не превышают n."
      ],
      "metadata": {
        "id": "MfSq03P8u9ch"
      }
    },
    {
      "cell_type": "code",
      "source": [
        "# Выполнила: Паньшина З.А.\n",
        "# Группа: АБП-231\n",
        "\n",
        "n = int(input(\"n = \"))\n",
        "c = 0\n",
        "while n >= c:\n",
        "  print(c)\n",
        "  c = c + 5"
      ],
      "metadata": {
        "id": "QbN5Bx5ku_5Q",
        "colab": {
          "base_uri": "https://localhost:8080/"
        },
        "outputId": "33e1cad2-4447-4739-8167-60c5e4c068ef"
      },
      "execution_count": 17,
      "outputs": [
        {
          "output_type": "stream",
          "name": "stdout",
          "text": [
            "n = 12\n",
            "0\n",
            "5\n",
            "10\n"
          ]
        }
      ]
    },
    {
      "cell_type": "markdown",
      "source": [
        "9. Дано вещественное число a. Найдите наименьшее натуральное n, для которого верно неравенство"
      ],
      "metadata": {
        "id": "l8nPluMXvAC9"
      }
    },
    {
      "cell_type": "code",
      "source": [
        "# Выполнила: Паньшина З.А.\n",
        "# Группа: АБП-231\n",
        "\n",
        "a = float(input(\"a = \"))\n",
        "\n",
        "n = 1\n",
        "x_sum = 0\n",
        "while x_sum <= a:\n",
        "    x_sum += 1 / n\n",
        "    n += 1\n",
        "\n",
        "print(n - 1)"
      ],
      "metadata": {
        "id": "rikTX5nJvCrr",
        "colab": {
          "base_uri": "https://localhost:8080/"
        },
        "outputId": "4466c1f2-7f19-436e-e82c-cd6e63535e21"
      },
      "execution_count": 20,
      "outputs": [
        {
          "output_type": "stream",
          "name": "stdout",
          "text": [
            "a = 2\n",
            "4\n"
          ]
        }
      ]
    },
    {
      "cell_type": "markdown",
      "source": [
        "10. Дано натуральное число. Определите сумму и количество его цифр."
      ],
      "metadata": {
        "id": "Intb41SmvC4G"
      }
    },
    {
      "cell_type": "code",
      "source": [
        "# Выполнила: Паньшина З.А.\n",
        "# Группа: АБП-231\n",
        "# E-mail: PanshinaZA433@mgpu.ru\n",
        "\n",
        "n = int(input(\"n = \"))\n",
        "\n",
        "n_sum = 0\n",
        "n_count = 0\n",
        "\n",
        "while n > 0:\n",
        "  n_sum = n_sum + n % 10\n",
        "  n = n // 10\n",
        "  n_count += 1\n",
        "\n",
        "print(\"Сумма =\", n_sum)\n",
        "print(\"Количество =\", n_count)"
      ],
      "metadata": {
        "id": "GiDIpMJDvFNt",
        "colab": {
          "base_uri": "https://localhost:8080/"
        },
        "outputId": "3a66af0d-7cc1-4d54-e767-f3ccca8486d7"
      },
      "execution_count": 27,
      "outputs": [
        {
          "output_type": "stream",
          "name": "stdout",
          "text": [
            "n = 12345\n",
            "Сумма = 15\n",
            "Количество = 5\n"
          ]
        }
      ]
    },
    {
      "cell_type": "markdown",
      "source": [
        "11. Вывести в строку 10 первых натуральных чисел, оканчивающихся на цифру k, кратных числу s и находящихся в интервале, левая граница которого равна start."
      ],
      "metadata": {
        "id": "SGVSNXi5vFX3"
      }
    },
    {
      "cell_type": "code",
      "source": [
        "# Выполнила: Паньшина З.А.\n",
        "# Группа: АБП-231\n",
        "\n",
        "start = int(input(\"start = \"))\n",
        "k = int(input(\"k = \"))\n",
        "s = int(input(\"s = \"))\n",
        "n_count = 10\n",
        "\n",
        "res = []\n",
        "x = start\n",
        "while n_count != 0:\n",
        "  if x % 10 == k and x % s == 0:\n",
        "    res.append(str(x))\n",
        "    n_count = n_count - 1\n",
        "  x += 1\n",
        "print(\" \".join(res))\n"
      ],
      "metadata": {
        "id": "QUScrTIsvH0X",
        "colab": {
          "base_uri": "https://localhost:8080/"
        },
        "outputId": "1ea395db-0cf8-43f1-cf43-6449a0f37bad"
      },
      "execution_count": 32,
      "outputs": [
        {
          "output_type": "stream",
          "name": "stdout",
          "text": [
            "start = 100\n",
            "k = 7\n",
            "s = 9\n",
            "117 207 297 387 477 567 657 747 837 927\n"
          ]
        }
      ]
    },
    {
      "cell_type": "markdown",
      "source": [
        "12. Даны целые числа a и b (a может быть больше b). Напечатайте: числа от минимального до максимального в строчку (разделяя пробелом); числа от максимального до минимального «столбиком»."
      ],
      "metadata": {
        "id": "pS0m-PV2vIEU"
      }
    },
    {
      "cell_type": "code",
      "source": [
        "# Выполнила: Паньшина З.А.\n",
        "# Группа: АБП-231\n",
        "\n",
        "a = int(input(\"a = \"))\n",
        "b = int(input(\"b = \"))\n",
        "\n",
        "if a > b:\n",
        "  max = a\n",
        "  min = b\n",
        "  for i in range(a-b+1):\n",
        "    print(b + i, end=\" \")\n",
        "  else:\n",
        "    print(\" \", sep='/n')\n",
        "  for i in range(a-b+1):\n",
        "    print(a - i)\n",
        "else:\n",
        "  max = b\n",
        "  min = a\n",
        "  for i in range(b-a+1):\n",
        "    print(a + i, end=\" \")\n",
        "  else:\n",
        "    print(\" \", sep='/n')\n",
        "  for i in range(b-a+1):\n",
        "    print(b - i)"
      ],
      "metadata": {
        "id": "p7-0DNEgvLFQ",
        "colab": {
          "base_uri": "https://localhost:8080/"
        },
        "outputId": "dfa86de6-79a2-4838-ff95-d99514c13439"
      },
      "execution_count": 64,
      "outputs": [
        {
          "output_type": "stream",
          "name": "stdout",
          "text": [
            "a = 1\n",
            "b = 5\n",
            "1 2 3 4 5  \n",
            "5\n",
            "4\n",
            "3\n",
            "2\n",
            "1\n"
          ]
        }
      ]
    },
    {
      "cell_type": "markdown",
      "source": [
        "13. Для введенных с клавиатуры положительных целых чисел a и b (a≤b) определите: сумму всех целых чисел от a до b; произведение всех целых чисел от a до b; среднее арифметическое всех целых чисел от a до b; среднее геометрическое нечетных чисел от a до b. Отрезок поиска включает сами числа a и b. При выводе вещественных результатов оставьте два знака после запятой."
      ],
      "metadata": {
        "id": "VMLT0BDfvLPu"
      }
    },
    {
      "cell_type": "code",
      "source": [
        "# Выполнила: Паньшина З.А.\n",
        "# Группа: АБП-231\n",
        "# E-mail: PanshinaZA433@mgpu.ru\n",
        "\n",
        "a = int(input(\"a = \"))\n",
        "b = int(input(\"b = \"))\n",
        "\n",
        "n_sum = 0\n",
        "n_mult = 1\n",
        "n_avg = 0\n",
        "n_avg_geom = 0\n",
        "\n",
        "count_n = 0\n",
        "pr_n = 1\n",
        "\n",
        "for i in range(b-a+1):\n",
        "  n = a + i\n",
        "  n_sum = n_sum + n\n",
        "  n_mult = n_mult * n\n",
        "  if n % 2 == 1:\n",
        "    count_n = count_n + 1\n",
        "    pr_n = pr_n * n\n",
        "\n",
        "n_avg = round((n_sum/(b-a+1)), 2)\n",
        "if count_n > 0:\n",
        "  n_avg_geom = round(pr_n ** (1 / count_n), 2)\n",
        "else:\n",
        "  n_avg_geom = 0\n",
        "\n",
        "print(\"Сумма =\", n_sum)\n",
        "print(\"Произведение =\", n_mult)\n",
        "print(f\"Среднее арифметическое = {n_avg}\")\n",
        "print(f\"Среднее геометрическое нечетных чисел = {n_avg_geom}\")\n"
      ],
      "metadata": {
        "id": "zIeZ6DC5vN_A",
        "colab": {
          "base_uri": "https://localhost:8080/"
        },
        "outputId": "588509ef-000f-469b-bb5f-fb1f40b0530b"
      },
      "execution_count": 88,
      "outputs": [
        {
          "output_type": "stream",
          "name": "stdout",
          "text": [
            "a = 1\n",
            "b = 5\n",
            "Сумма = 15\n",
            "Произведение = 120\n",
            "Среднее арифметическое = 3.0\n",
            "Среднее геометрическое нечетных чисел = 2.47\n"
          ]
        }
      ]
    },
    {
      "cell_type": "markdown",
      "source": [
        "14. Начав тренировки, лыжник в первый день пробежал s км. (s>0, вещественное число). Каждый следующий день он увеличивал пробег на p % (0<p≤100, вещественное число) от пробега предыдущего дня. Определите: пробег лыжника за второй, третий, …, десятый день тренировок; какой суммарный путь он пробежал за первые 10 дней тренировок. При выводе вещественных результатов оставьте один знак после запятой."
      ],
      "metadata": {
        "id": "3npjngWdvOHT"
      }
    },
    {
      "cell_type": "code",
      "source": [
        "# Выполнила: Паньшина З.А.\n",
        "# Группа: АБП-231\n",
        "\n",
        "n = 1\n",
        "s = float(input(f\"Пробег за {n}-й день (км.) = \"))\n",
        "p = float(input(\"На сколько увеличивает пробег (%) = \"))\n",
        "\n",
        "total = s\n",
        "while n < 10:\n",
        "  s *= (p / 100) + 1\n",
        "  total = total + s\n",
        "  n += 1\n",
        "  print(f\"Пробег за {n}-й день: {round(s,1)} км.\")\n",
        "\n",
        "print(f\"Суммарный пробег: {round(total, 1)} км.\")"
      ],
      "metadata": {
        "id": "3McGsaWbvQda",
        "colab": {
          "base_uri": "https://localhost:8080/"
        },
        "outputId": "e598e51c-c2b3-43c2-ed45-33e512e467d4"
      },
      "execution_count": 34,
      "outputs": [
        {
          "output_type": "stream",
          "name": "stdout",
          "text": [
            "Пробег за 1-й день (км.) = 5\n",
            "На сколько увеличивает пробег (%) = 10\n",
            "Пробег за 2-й день: 5.5 км.\n",
            "Пробег за 3-й день: 6.1 км.\n",
            "Пробег за 4-й день: 6.7 км.\n",
            "Пробег за 5-й день: 7.3 км.\n",
            "Пробег за 6-й день: 8.1 км.\n",
            "Пробег за 7-й день: 8.9 км.\n",
            "Пробег за 8-й день: 9.7 км.\n",
            "Пробег за 9-й день: 10.7 км.\n",
            "Пробег за 10-й день: 11.8 км.\n",
            "Суммарный пробег: 79.7 км.\n"
          ]
        }
      ]
    },
    {
      "cell_type": "markdown",
      "source": [
        "15. Известна масса каждого предмета в кг., загружаемого в грузовик. Определить, возможна ли перевозка груза, если грузоподъемность грузовика равна p кг"
      ],
      "metadata": {
        "id": "ho2p1KLfvQxi"
      }
    },
    {
      "cell_type": "code",
      "source": [
        "# Выполнила: Паньшина З.А.\n",
        "# Группа: АБП-231\n",
        "\n",
        "p = float(input(\"Грузоподъемность грузовика (кг.) = \"))\n",
        "n = int(input(\"Количество предметов = \"))\n",
        "\n",
        "total = 0\n",
        "a = 1\n",
        "for i in range(n):\n",
        "  m = float(input(f\"Масса {a}-го предмета (кг.) = \"))\n",
        "  total = total + m\n",
        "  a += 1\n",
        "if total <= p:\n",
        "  print(\"Да\")\n",
        "else:\n",
        "  print(\"Нет\")"
      ],
      "metadata": {
        "id": "ymAX9Rh3vTHX",
        "colab": {
          "base_uri": "https://localhost:8080/"
        },
        "outputId": "e1e79eca-596e-4d05-8364-67d07ff92a1f"
      },
      "execution_count": 105,
      "outputs": [
        {
          "output_type": "stream",
          "name": "stdout",
          "text": [
            "Грузоподъемность грузовика (кг.) = 10\n",
            "Количество предметов = 2\n",
            "Масса 1-го предмета (кг.) = 3\n",
            "Масса 2-го предмета (кг.) = 3\n",
            "Да\n"
          ]
        }
      ]
    },
    {
      "cell_type": "markdown",
      "source": [
        "16. В области несколько районов. Заданы площади, засеваемые пшеницей (га.), и средняя урожайность (ц/га) в каждом районе. Определите количество пшеницы, собранное по области. При выводе вещественных результатов оставьте один знак после запятой."
      ],
      "metadata": {
        "id": "NIVwVbv-vTT5"
      }
    },
    {
      "cell_type": "code",
      "source": [
        "# Выполнила: Паньшина З.А.\n",
        "# Группа: АБП-231\n",
        "\n",
        "n = int(input(\"Количество районов = \"))\n",
        "\n",
        "total = 0\n",
        "a = 1\n",
        "for i in range(n):\n",
        "  s = int(input(f\"Площадь {a}-го района (га) = \"))\n",
        "  y = int(input(f\"Урожайность в {a}-м районе (ц/га.) = \"))\n",
        "  a += 1\n",
        "  total = round((total + (s * y)), 1)\n",
        "print(f\"Собрано пшеницы: {total} ц.\")"
      ],
      "metadata": {
        "id": "fC0SkH5QvWW_",
        "colab": {
          "base_uri": "https://localhost:8080/"
        },
        "outputId": "eb446519-8f3d-4d5b-a74a-5032d9d575cf"
      },
      "execution_count": 106,
      "outputs": [
        {
          "output_type": "stream",
          "name": "stdout",
          "text": [
            "Количество районов = 3\n",
            "Площадь 1-го района (га) = 4\n",
            "Урожайность в 1-м районе (ц/га.) = 2\n",
            "Площадь 2-го района (га) = 7\n",
            "Урожайность в 2-м районе (ц/га.) = 3\n",
            "Площадь 3-го района (га) = 9\n",
            "Урожайность в 3-м районе (ц/га.) = 4\n",
            "Собрано пшеницы: 65 ц.\n"
          ]
        }
      ]
    },
    {
      "cell_type": "markdown",
      "source": [
        "17. Решите задачу № 7, организовав бесконечный цикл, который бы прерывался при выполнении условия, используя оператор break."
      ],
      "metadata": {
        "id": "3ZThGjr3vWi-"
      }
    },
    {
      "cell_type": "code",
      "source": [
        "# Выполнила: Паньшина З.А.\n",
        "# Группа: АБП-231\n",
        "\n",
        "nums_sum = 0  # сумма\n",
        "nums_count = 0  # количество\n",
        "i = 0\n",
        "while True:\n",
        "    x = int(input(f\"Введите {i+1}-е число: \"))\n",
        "    if x == 0:\n",
        "      break\n",
        "    nums_sum = nums_sum + x\n",
        "    nums_count += 1\n",
        "    i += 1\n",
        "print(\"Сумма =\", nums_sum)\n",
        "print(\"Количество =\", nums_count)"
      ],
      "metadata": {
        "id": "EeKqIxrqvYjj",
        "colab": {
          "base_uri": "https://localhost:8080/"
        },
        "outputId": "0dbce0da-feee-43ca-c3a4-5e412c4e8110"
      },
      "execution_count": 8,
      "outputs": [
        {
          "output_type": "stream",
          "name": "stdout",
          "text": [
            "Введите 1-е число: 1\n",
            "Введите 2-е число: 2\n",
            "Введите 3-е число: 3\n",
            "Введите 4-е число: 4\n",
            "Введите 5-е число: 0\n",
            "Сумма = 10\n",
            "Количество = 4\n"
          ]
        }
      ]
    },
    {
      "cell_type": "markdown",
      "source": [
        "18. Предложение, введенное с клавиатуры, содержит слова из гласных и согласных букв кириллицы (регистр может быть различный), а также пробелы. Определите количество гласных и согласных букв в предложении. Для пропуска пробелов используйте оператор continue."
      ],
      "metadata": {
        "id": "MnmmuBIKvYwb"
      }
    },
    {
      "cell_type": "code",
      "source": [
        "# Выполнила: Паньшина З.А.\n",
        "# Группа: АБП-231\n",
        "\n",
        "sentence = str(input(\"Введите предложение: \"))\n",
        "\n",
        "count_gl = 0  # Кол-во гласных\n",
        "count_sogl = 0  # Кол-во согласных\n",
        "\n",
        "gl = \"АаУуЫыЕеЁёОоИиЭэЮюЯя\"\n",
        "\n",
        "for c in sentence:\n",
        "  if c == ' ':\n",
        "    continue\n",
        "  if c in gl:\n",
        "    count_gl += 1\n",
        "  else:\n",
        "    count_sogl += 1\n",
        "print(f\"Кол-во букв в предложении: гласных - {count_gl}, согласных - {count_sogl}\")"
      ],
      "metadata": {
        "id": "gJ5ERoUTva3_",
        "colab": {
          "base_uri": "https://localhost:8080/"
        },
        "outputId": "a2e55d80-ee36-4246-983a-95c83375201b"
      },
      "execution_count": 11,
      "outputs": [
        {
          "output_type": "stream",
          "name": "stdout",
          "text": [
            "Введите предложение: Программирование\n",
            "Кол-во букв в предложении: гласных - 7, согласных - 9\n"
          ]
        }
      ]
    },
    {
      "cell_type": "markdown",
      "source": [
        "19. Выведите на экран (в строку) все целые числа от a до b, кратные некоторому числу c"
      ],
      "metadata": {
        "id": "rea8niXXva-H"
      }
    },
    {
      "cell_type": "code",
      "source": [
        "# Выполнила: Паньшина З.А.\n",
        "# Группа: АБП-231\n",
        "\n",
        "a = int(input(\"a = \"))\n",
        "b = int(input(\"b = \"))\n",
        "c = int(input(\"c = \"))\n",
        "\n",
        "while a <= b:\n",
        "  a = a + 1\n",
        "  if a % c == 0:\n",
        "    print(a, end=\" \")"
      ],
      "metadata": {
        "id": "_7hNiB6FvdJ5",
        "colab": {
          "base_uri": "https://localhost:8080/"
        },
        "outputId": "3cb3b9e9-1b1c-4d3d-9b83-d531b1319769"
      },
      "execution_count": 23,
      "outputs": [
        {
          "output_type": "stream",
          "name": "stdout",
          "text": [
            "a = 1\n",
            "b = 10\n",
            "c = 2\n",
            "2 4 6 8 10 "
          ]
        }
      ]
    },
    {
      "cell_type": "markdown",
      "source": [
        "20. Выведите на экран (в строку) все трехзначные натуральные числа, сумма цифр которых равна целому числу n (0<n≤27)"
      ],
      "metadata": {
        "id": "iJEPLrevvdVJ"
      }
    },
    {
      "cell_type": "code",
      "source": [
        "# Выполнила: Паньшина З.А.\n",
        "# Группа: АБП-231\n",
        "\n",
        "n = int(input(\"n = \"))\n",
        "\n",
        "res = []\n",
        "x = 100\n",
        "while x < 1000:\n",
        "  if (x%10) + ((x//10)%10) + (x//100) == n:\n",
        "    res.append(str(x))\n",
        "  x += 1\n",
        "print(\" \".join(res))"
      ],
      "metadata": {
        "id": "B1fVjfvqvfLI",
        "colab": {
          "base_uri": "https://localhost:8080/"
        },
        "outputId": "fe177f92-7829-438d-9d5d-9928bc28bc69"
      },
      "execution_count": 29,
      "outputs": [
        {
          "output_type": "stream",
          "name": "stdout",
          "text": [
            "n = 3\n",
            "102 111 120 201 210 300\n"
          ]
        }
      ]
    },
    {
      "cell_type": "markdown",
      "source": [
        "21. Известно количество учеников в классе и их рост (см.); рост мальчиков условно задан отрицательными числами. Определите средний рост мальчиков и средний рост девочек. При выводе вещественных результатов оставьте один знак после запятой."
      ],
      "metadata": {
        "id": "WAi4D3RJvfS4"
      }
    },
    {
      "cell_type": "code",
      "source": [
        "# Выполнила: Паньшина З.А.\n",
        "# Группа: АБП-231\n",
        "\n",
        "n = int(input(\"n = \"))\n",
        "\n",
        "r_sr_m = 0.0\n",
        "r_sr_d = 0.0\n",
        "count_m = 0\n",
        "count_d  = 0\n",
        "sum_m = 0\n",
        "sum_d = 0\n",
        "\n",
        "for i in range(n):\n",
        "  x = float(input(f\"Рост {i+1}-го ученика = \"))\n",
        "  if x < 0:\n",
        "    sum_m = sum_m + x\n",
        "    count_m += 1\n",
        "    r_sr_m = abs(round((sum_m / count_m), 1))\n",
        "  else:\n",
        "    sum_d = sum_d + x\n",
        "    count_d += 1\n",
        "    r_sr_d = round((sum_d / count_d), 1)\n",
        "\n",
        "print(f\"Средний рост мальчиков: {r_sr_m}\")\n",
        "print(f\"Средний рост девочек: {r_sr_d}\")"
      ],
      "metadata": {
        "id": "4xoNJMmwj2Rh",
        "colab": {
          "base_uri": "https://localhost:8080/"
        },
        "outputId": "63521a69-67dd-4e32-a2a1-199b4730dd73"
      },
      "execution_count": 31,
      "outputs": [
        {
          "output_type": "stream",
          "name": "stdout",
          "text": [
            "n = 5\n",
            "Рост 1-го ученика = 150\n",
            "Рост 2-го ученика = -150\n",
            "Рост 3-го ученика = 160\n",
            "Рост 4-го ученика = 170\n",
            "Рост 5-го ученика = 180\n",
            "Средний рост мальчиков: 150.0\n",
            "Средний рост девочек: 165.0\n"
          ]
        }
      ]
    },
    {
      "cell_type": "markdown",
      "source": [
        "22. Даны n вещественных чисел. Определите максимальное и минимальное из них. При выводе вещественных результатов оставьте два знака после запятой.\n"
      ],
      "metadata": {
        "id": "FjHa9Is2j2d9"
      }
    },
    {
      "cell_type": "code",
      "source": [
        "# Выполнила: Паньшина З.А.\n",
        "# Группа: АБП-231\n",
        "# E-mail: PanshinaZA433@mgpu.ru\n",
        "\n",
        "n = int(input(\"n = \"))\n",
        "\n",
        "a_max = None\n",
        "a_min = None\n",
        "\n",
        "for i in range(n):\n",
        "  x = float(input(f\"{i+1}-е число = \"))\n",
        "  if a_max is None:\n",
        "    a_max = round(x, 2)\n",
        "    a_min = round(x, 2)\n",
        "  else:\n",
        "    if x > a_max:\n",
        "      a_max = round(x, 2)\n",
        "    if x < a_min:\n",
        "      a_min = round(x, 2)\n",
        "\n",
        "print(f\"Максимум: {a_max}\")\n",
        "print(f\"Минимум: {a_min}\")\n"
      ],
      "metadata": {
        "id": "t7Z3lweMj4VC",
        "colab": {
          "base_uri": "https://localhost:8080/"
        },
        "outputId": "5d0fd17e-1c88-4c37-ec68-6a4c62ab7559"
      },
      "execution_count": 38,
      "outputs": [
        {
          "output_type": "stream",
          "name": "stdout",
          "text": [
            "n = 4\n",
            "1-е число = 6.2\n",
            "2-е число = 3.8\n",
            "3-е число = 1.1\n",
            "4-е число = 9.66\n",
            "Максимум: 9.66\n",
            "Минимум: 1.1\n"
          ]
        }
      ]
    },
    {
      "cell_type": "markdown",
      "source": [
        "23. Дано натуральное число n. Определите, является ли оно членом последовательности Фибоначчи."
      ],
      "metadata": {
        "id": "avsEqlR9j4cR"
      }
    },
    {
      "cell_type": "code",
      "source": [
        "# Выполнила: Паньшина З.А.\n",
        "# Группа: АБП-231\n",
        "\n",
        "n = int(input(\"n = \"))\n",
        "\n",
        "a, b = 0, 1\n",
        "while b < n:\n",
        "  a, b = b, a + b\n",
        "print(\"Является\" if b == n or n == 0 else \"Не является\")"
      ],
      "metadata": {
        "id": "GtL3PSbjj7gG",
        "colab": {
          "base_uri": "https://localhost:8080/"
        },
        "outputId": "0e9a04f3-dd1c-4c30-fe08-ac1658599826"
      },
      "execution_count": 67,
      "outputs": [
        {
          "output_type": "stream",
          "name": "stdout",
          "text": [
            "n = 8\n",
            "Является\n"
          ]
        }
      ]
    },
    {
      "cell_type": "markdown",
      "source": [
        "24. Дано n вещественных чисел. Определите, является ли последовательность упорядоченной по возрастанию. В случае отрицательного ответа выведите порядковый номер числа, нарушающего такую упорядоченность."
      ],
      "metadata": {
        "id": "CZyTwqmGj7np"
      }
    },
    {
      "cell_type": "code",
      "source": [
        "# Выполнила: Паньшина З.А.\n",
        "# Группа: АБП-231\n",
        "\n",
        "n = int(input(\"n = \"))\n",
        "\n",
        "# -1 означает, что последовательность упорядочена по возрастанию\n",
        "# Если это не так, 'index' меняется в цикле на индекс элемента,\n",
        "# нарушающего порядок\n",
        "index = -1\n",
        "\n",
        "prev = float(input(\"1-е число = \"))\n",
        "for i in range(n-1):\n",
        "  a = float(input(f\"{i+2}-е число = \"))\n",
        "  if a <= prev:\n",
        "    index = i+2\n",
        "    print(index)\n",
        "    break\n",
        "  prev = a\n",
        "else:\n",
        "    print(\"Является\")"
      ],
      "metadata": {
        "id": "Kwx4yVy_j95D",
        "colab": {
          "base_uri": "https://localhost:8080/"
        },
        "outputId": "fd636bc4-3687-4c5e-fe97-71196a76fc46"
      },
      "execution_count": 87,
      "outputs": [
        {
          "output_type": "stream",
          "name": "stdout",
          "text": [
            "n = 3\n",
            "1-е число = 3\n",
            "2-е число = 3\n",
            "2\n"
          ]
        }
      ]
    },
    {
      "cell_type": "markdown",
      "source": [
        "25. Выведите на экран таблицу умножения на n (2<n≤9)"
      ],
      "metadata": {
        "id": "8dZeXfRrj9_g"
      }
    },
    {
      "cell_type": "code",
      "source": [
        "# Выполнила: Паньшина З.А.\n",
        "# Группа: АБП-231\n",
        "\n",
        "n = int(input(\"n = \"))\n",
        "\n",
        "for i in range(1, n + 1):\n",
        "    row = []\n",
        "    for j in range(1, n + 1):\n",
        "        row.append(f\"{i} * {j} = {i * j:>2}\")\n",
        "    print(\"  \".join(row))"
      ],
      "metadata": {
        "id": "-ha_hfcLj_sX",
        "colab": {
          "base_uri": "https://localhost:8080/"
        },
        "outputId": "1507acf9-366e-4bed-cd9a-76a0747b5db2"
      },
      "execution_count": 88,
      "outputs": [
        {
          "output_type": "stream",
          "name": "stdout",
          "text": [
            "n = 5\n",
            "1 * 1 =  1  1 * 2 =  2  1 * 3 =  3  1 * 4 =  4  1 * 5 =  5\n",
            "2 * 1 =  2  2 * 2 =  4  2 * 3 =  6  2 * 4 =  8  2 * 5 = 10\n",
            "3 * 1 =  3  3 * 2 =  6  3 * 3 =  9  3 * 4 = 12  3 * 5 = 15\n",
            "4 * 1 =  4  4 * 2 =  8  4 * 3 = 12  4 * 4 = 16  4 * 5 = 20\n",
            "5 * 1 =  5  5 * 2 = 10  5 * 3 = 15  5 * 4 = 20  5 * 5 = 25\n"
          ]
        }
      ]
    },
    {
      "cell_type": "markdown",
      "source": [
        "26. Выведите графическое изображения делимости чисел от 1 до n (значение n вводится с клавиатуры) - в каждой строке напечатайте очередное число и столько символов * , сколько делителей у этого числа.\n"
      ],
      "metadata": {
        "id": "ZJuGiSlAj_0q"
      }
    },
    {
      "cell_type": "code",
      "source": [
        "# Выполнила: Паньшина З.А.\n",
        "# Группа: АБП-231\n",
        "\n",
        "n = int(input(\"n = \"))\n",
        "\n",
        "for i in range(1, n + 1):\n",
        "    count_d = 0\n",
        "    for d in range(1, i + 1):\n",
        "      if i % d == 0:\n",
        "        count_d = count_d + 1\n",
        "    print(i, \"*\" * count_d)"
      ],
      "metadata": {
        "id": "32wV5jYXkBxD",
        "colab": {
          "base_uri": "https://localhost:8080/"
        },
        "outputId": "b4d5aa6a-0152-4f38-e3da-45aa1cea892c"
      },
      "execution_count": 2,
      "outputs": [
        {
          "output_type": "stream",
          "name": "stdout",
          "text": [
            "n = 10\n",
            "1 *\n",
            "2 **\n",
            "3 **\n",
            "4 ***\n",
            "5 **\n",
            "6 ****\n",
            "7 **\n",
            "8 ****\n",
            "9 ***\n",
            "10 ****\n"
          ]
        }
      ]
    },
    {
      "cell_type": "markdown",
      "source": [
        "27. Выведите на экран (в строку) n первых простых чисел\n"
      ],
      "metadata": {
        "id": "0FxURyDKkB2l"
      }
    },
    {
      "cell_type": "code",
      "source": [
        "# Выполнила: Паньшина З.А.\n",
        "# Группа: АБП-231\n",
        "\n",
        "n = int(input(\"n = \"))\n",
        "\n",
        "f = 0\n",
        "x = 2\n",
        "pr =[]\n",
        "\n",
        "while f < n:\n",
        "  for d in range(2, x):\n",
        "    if x % d == 0:\n",
        "      break\n",
        "  else:\n",
        "    pr.append(str(x))\n",
        "    f = f + 1\n",
        "  x = x + 1\n",
        "print(\" \".join(pr))"
      ],
      "metadata": {
        "colab": {
          "base_uri": "https://localhost:8080/"
        },
        "id": "-5eQrMMCnmrQ",
        "outputId": "d5a59585-81cb-40b2-91f0-b0907648a854"
      },
      "execution_count": 12,
      "outputs": [
        {
          "output_type": "stream",
          "name": "stdout",
          "text": [
            "n = 10\n",
            "2 3 5 7 11 13 17 19 23 29\n"
          ]
        }
      ]
    },
    {
      "cell_type": "markdown",
      "source": [
        "28. Составьте программу для нахождения всех натуральных решений уравнения x2+y2+z2=k2, где x,y,z∈[1,30], а k вводится с клавиатуры"
      ],
      "metadata": {
        "id": "dsHTwCqBkEii"
      }
    },
    {
      "cell_type": "code",
      "source": [
        "# Выполнила: Паньшина З.А.\n",
        "# Группа: АБП-231\n",
        "\n",
        "k = int(input(\"k = \"))\n",
        "\n",
        "for x in range(1, 31):\n",
        "    for y in range(1, 31):\n",
        "        for z in range(1, 31):\n",
        "            if x*x + y*y + z*z == k*k:\n",
        "                print(f\"x = {x}, y = {y}, z = {z}\")"
      ],
      "metadata": {
        "id": "OIzUz06ikIOW",
        "colab": {
          "base_uri": "https://localhost:8080/"
        },
        "outputId": "0fc4e260-af7c-4ce9-c917-1be33ac2ba94"
      },
      "execution_count": 14,
      "outputs": [
        {
          "output_type": "stream",
          "name": "stdout",
          "text": [
            "k = 30\n",
            "x = 4, y = 10, z = 28\n",
            "x = 4, y = 20, z = 22\n",
            "x = 4, y = 22, z = 20\n",
            "x = 4, y = 28, z = 10\n",
            "x = 10, y = 4, z = 28\n",
            "x = 10, y = 20, z = 20\n",
            "x = 10, y = 28, z = 4\n",
            "x = 20, y = 4, z = 22\n",
            "x = 20, y = 10, z = 20\n",
            "x = 20, y = 20, z = 10\n",
            "x = 20, y = 22, z = 4\n",
            "x = 22, y = 4, z = 20\n",
            "x = 22, y = 20, z = 4\n",
            "x = 28, y = 4, z = 10\n",
            "x = 28, y = 10, z = 4\n"
          ]
        }
      ]
    },
    {
      "cell_type": "markdown",
      "source": [
        "29. Дан список из n вещественных чисел, введенных с клавиатуры (среди чисел есть по крайней мере одно положительное и отрицательное число). Сформируйте из него 2 списка: положительных чисел, используя списковые включения; отрицательных чисел, не используя списковые включения. Выведите на экран: исходный список; получившиеся списки; среднее арифметическое первого списка и среднее геометрическое второго списка. При выводе вещественных результатов оставьте два знака после запятой"
      ],
      "metadata": {
        "id": "0jqI-fblkIWp"
      }
    },
    {
      "cell_type": "code",
      "source": [
        "# Выполнила: Паньшина З.А.\n",
        "# Группа: АБП-231\n",
        "\n",
        "n = int(input(\"n = \"))\n",
        "\n",
        "nums = []\n",
        "for i in range(n):\n",
        "    x = float(input(f\"Введите {i+1}-й элемент списка: \"))\n",
        "    nums.append(x)\n",
        "\n",
        "nums_pos = [x for x in nums if x > 0]\n",
        "nums_neg = []\n",
        "for x in nums:\n",
        "    if x < 0:\n",
        "        nums_neg.append(x)\n",
        "\n",
        "sr_ar = round((sum(nums_pos) / len(nums_pos)), 2)\n",
        "pr = 1\n",
        "for x in nums_neg:\n",
        "    pr *= x\n",
        "sr_geom = round((pr ** (1 / len(nums_neg))), 2)\n",
        "\n",
        "print(\"Исходный список:\", nums)\n",
        "print(\"Положительные числа:\", nums_pos)\n",
        "print(\"Отрицательные числа:\", nums_neg)\n",
        "print(\"Ср. арифм.:\", sr_ar)\n",
        "print(\"Ср. геом.:\", sr_geom)"
      ],
      "metadata": {
        "id": "fUVr0GlRkKKS",
        "colab": {
          "base_uri": "https://localhost:8080/"
        },
        "outputId": "9c85f2b4-3eb1-408b-ed32-b87c96ce584a"
      },
      "execution_count": 16,
      "outputs": [
        {
          "output_type": "stream",
          "name": "stdout",
          "text": [
            "n = 4\n",
            "Введите 1-й элемент списка: 1\n",
            "Введите 2-й элемент списка: 6\n",
            "Введите 3-й элемент списка: -10\n",
            "Введите 4-й элемент списка: -3\n",
            "Исходный список: [1.0, 6.0, -10.0, -3.0]\n",
            "Положительные числа: [1.0, 6.0]\n",
            "Отрицательные числа: [-10.0, -3.0]\n",
            "Ср. арифм.: 3.5\n",
            "Ср. геом.: 5.48\n"
          ]
        }
      ]
    },
    {
      "cell_type": "markdown",
      "source": [
        "30. Дан список целых чисел, введенных с клавиатуры (длина неизвестна). Ответьте на вопросы: являются ли все элементы положительными числами? есть ли хотя бы один нулевой элемент в списке? являются ли все элементы четными числами? есть ли хотя бы один нечетный элемент в списке? Каждый из пунктов выполните дважды: используя стандартный проход в цикле(например, через алгоритм с флажком), и используя функции any() и/или all()."
      ],
      "metadata": {
        "id": "CYE95WZvkKRr"
      }
    },
    {
      "cell_type": "code",
      "source": [
        "# Выполнила: Паньшина З.А.\n",
        "# Группа: АБП-231\n",
        "\n",
        "# Все разделенные пробелом элементы будут преобразованы в список целых чисел\n",
        "nums = [int(item) for item in input().split()]\n",
        "\n",
        "# 1. Все положительные\n",
        "for item in nums:\n",
        "    if item <= 0:\n",
        "        all_pos_1 = False\n",
        "        break\n",
        "else:\n",
        "    all_pos_1 = True\n",
        "\n",
        "all_pos_2 = all([item > 0 for item in nums])\n",
        "\n",
        "# 2. Хотя бы 1 нулевой элемент\n",
        "for item in nums:\n",
        "    if item == 0:\n",
        "        any_zero_1 = True\n",
        "        break\n",
        "else:\n",
        "    any_zero_1 = False\n",
        "\n",
        "any_zero_2 = any([item == 0 for item in nums])\n",
        "\n",
        "# 3. Все четные\n",
        "for item in nums:\n",
        "    if item % 2 != 0:\n",
        "        all_even_1 = False\n",
        "        break\n",
        "else:\n",
        "    all_even_1 = True\n",
        "\n",
        "all_even_2 = all(item % 2 == 0 for item in nums)\n",
        "\n",
        "# 4. Хотя бы 1 нечетный элемент\n",
        "for item in nums:\n",
        "    if item % 2 != 0:\n",
        "        any_odd_1 = True\n",
        "        break\n",
        "else:\n",
        "    any_odd_1 = False\n",
        "\n",
        "any_odd_2 = any(item % 2 != 0 for item in nums)\n",
        "\n",
        "print(\"Все положительные:\", all_pos_1, all_pos_2)\n",
        "print(\"Хотя бы 1 нулевой элемент:\", any_zero_1, any_zero_2)\n",
        "print(\"Все четные:\", all_even_1, all_even_2)\n",
        "print(\"Хотя бы 1 нечетный элемент:\", any_odd_1, any_odd_2)"
      ],
      "metadata": {
        "id": "Rqq_V5l6kMi7",
        "colab": {
          "base_uri": "https://localhost:8080/"
        },
        "outputId": "7d99ddba-d833-4a17-e002-50298ab03a15"
      },
      "execution_count": 17,
      "outputs": [
        {
          "output_type": "stream",
          "name": "stdout",
          "text": [
            "-1 1 100 0\n",
            "Все положительные: False False\n",
            "Хотя бы 1 нулевой элемент: True True\n",
            "Все четные: False False\n",
            "Хотя бы 1 нечетный элемент: True True\n"
          ]
        }
      ]
    },
    {
      "cell_type": "markdown",
      "source": [
        "31. Дано предложение. Выведите его на экран, удалив из него все слова, содержащие произвольную букву (вводится с клавиатуры)."
      ],
      "metadata": {
        "id": "Z2x2uDxAkMpw"
      }
    },
    {
      "cell_type": "code",
      "source": [
        "# Выполнила: Паньшина З.А.\n",
        "# Группа: АБП-231\n",
        "\n",
        "s = input(\"Введите предложение = \")\n",
        "k = input(\"Введите букву = \")\n",
        "\n",
        "words = s.split()\n",
        "\n",
        "f_words = []\n",
        "for word in words:\n",
        "  if k.lower() not in word.lower():\n",
        "    f_words.append(word)\n",
        "res = ' '.join(f_words)\n",
        "print(res)"
      ],
      "metadata": {
        "id": "43Qaw-nLkOch",
        "colab": {
          "base_uri": "https://localhost:8080/"
        },
        "outputId": "ad89dae6-3208-4414-c81f-cc96e3977f85"
      },
      "execution_count": 18,
      "outputs": [
        {
          "output_type": "stream",
          "name": "stdout",
          "text": [
            "Введите предложение = МАМА  мыла РаМу\n",
            "Введите букву = р\n",
            "МАМА мыла\n"
          ]
        }
      ]
    },
    {
      "cell_type": "markdown",
      "source": [
        "32. В зрительном зале кинотеатра n рядов, количество мест в которых может меняться. Разработчик смоделировал занятость мест как двумерный массив (список из списков), где каждый вложенный список содержит информацию о проданных местах в соответствующем ряду (1 - занято, 0 - свободно). Напишите программу, которая позволит пользователю увидеть количество свободных мест, а также, введя номер ряда и места, получить информацию - свободно оно или нет. Данные о занятости мест вводятся с клавиатуры (набор из 0 и 1 для каждого ряда)."
      ],
      "metadata": {
        "id": "hX5Ihpp0kOj8"
      }
    },
    {
      "cell_type": "code",
      "source": [
        "# Выполнила: Паньшина З.А.\n",
        "# Группа: АБП-231\n",
        "\n",
        "n = int(input(\"Количество рядов = \"))\n",
        "\n",
        "# 1. Заполнение мест\n",
        "seats = []\n",
        "for i in range(n):\n",
        "    row = [int(x) for x in input().split()]\n",
        "    seats.append(row)\n",
        "\n",
        "# 2. Всего свободных мест\n",
        "count = 0\n",
        "for row in seats:\n",
        "    for seat in row:\n",
        "        if seat == 0:\n",
        "            count += 1\n",
        "print(\"Всего свободных мест:\", count)\n",
        "\n",
        "# 3. Ввод значений для поиска\n",
        "#    Учитывайте, что пользователь привык считать с 1, а не с 0,\n",
        "#    поэтому введенные сообщения необходимо скорректировать\n",
        "n_p, m_p = [int(item) for item in\n",
        "            input(\"Введите ряд и место через пробел: \").split()]\n",
        "\n",
        "if n_p < 1 or n_p > n:\n",
        "    print(\"Такого места не существует\")\n",
        "elif m_p < 1 or m_p > len(seats[n_p - 1]):\n",
        "    print(\"Такого места не существует\")\n",
        "else:\n",
        "    is_free = seats[n_p - 1][m_p - 1] == 0\n",
        "    print(f\"Место свободно: {is_free}\")"
      ],
      "metadata": {
        "id": "sKePMEY_kQb1",
        "colab": {
          "base_uri": "https://localhost:8080/"
        },
        "outputId": "8a8ca3dd-502a-4696-c70b-346b3c9cf6ee"
      },
      "execution_count": 22,
      "outputs": [
        {
          "output_type": "stream",
          "name": "stdout",
          "text": [
            "Количество рядов = 3\n",
            "0 0 0\n",
            "1 1 1\n",
            "0 0 0 0 1\n",
            "Всего свободных мест: 7\n",
            "Введите ряд и место через пробел: 1 1\n",
            "Место свободно: True\n"
          ]
        }
      ]
    },
    {
      "cell_type": "markdown",
      "source": [
        "33. Вводится список из n сотрудников, где все значения разделены пробелом и сами не содержат пробелов; Пол : \"М\" или \"Ж\" ; Стаж : количество полных лет, отработанных в компании. Сохраните введенные задания в виде списка списков, далее определите самого «молодого» и самого «старого» сотрудника, используя функцию sorted(); сформируйте 2 отельных списка: мужчин и женщин и ответьте, в каком из списков больше имен, начинающихся на букву k (вводится с клавиатуры)"
      ],
      "metadata": {
        "id": "bMqs0pL5kQhv"
      }
    },
    {
      "cell_type": "code",
      "source": [
        "# Выполнила: Паньшина З.А.\n",
        "# Группа: АБП-231\n",
        "\n",
        "# 1. Заполнение списка\n",
        "\n",
        "# Используйте данный список для собственных тестов,\n",
        "# чтобы избежать постоянного ввода значений\n",
        "# Перед автоматической проверкой удалите/закомментируйте его\n",
        "# и используйте ввод с клавиатуры\n",
        "#employees = [\n",
        "#    [\"Петрова\", \"Анна\", \"Алексеевна\", \"Ж\", 5],\n",
        "#    [\"Семенов\", \"Николай\", \"Михайлович\", \"М\", 2],\n",
        "#    [\"Михайлов\", \"Игорь\", \"Васильевич\", \"М\", 3]\n",
        "#]\n",
        "\n",
        "n = int(input(\"Количество сотрудников = \"))\n",
        "\n",
        "employees = []\n",
        "for i in range(n):\n",
        "    line = input().split()\n",
        "    line[4] = int(line[4])\n",
        "    employees.append(line)\n",
        "\n",
        "# 2. Cамый «молодой» и самый «старый» сотрудник\n",
        "sorted_employees = sorted(employees, key=lambda x: x[4])\n",
        "employee_min = sorted_employees[0]\n",
        "employee_max = sorted_employees[-1]\n",
        "print(\"Cамый \\\"молодой\\\": {}\".format(\" \".join(employee_min[:3])))\n",
        "print(\"Cамый \\\"старый\\\": {}\".format(\" \".join(employee_max[:3])))\n",
        "\n",
        "# 3. Отдельные списки мужчин и женщин\n",
        "#    В данном случае удобно использовать списковые включения\n",
        "men = [emp for emp in employees if emp[3] == \"М\"]\n",
        "women = [emp for emp in employees if emp[3] == \"Ж\"]\n",
        "\n",
        "k = input(\"Введите букву начала имени = \").upper()\n",
        "\n",
        "men_k_count = 0\n",
        "for emp in men:\n",
        "    if emp[1].startswith(k):\n",
        "        men_k_count += 1\n",
        "\n",
        "women_k_count = 0\n",
        "for emp in women:\n",
        "    if emp[1].startswith(k):\n",
        "        women_k_count += 1\n",
        "\n",
        "if men_k_count > women_k_count:\n",
        "    print(\"У мужчин таких имен больше\")\n",
        "elif women_k_count > men_k_count:\n",
        "    print(\"У женщин таких имен больше\")\n",
        "else:\n",
        "    print(\"Таких имен поровну у мужчин и женщин\")"
      ],
      "metadata": {
        "id": "NLQW1WMykSVR",
        "colab": {
          "base_uri": "https://localhost:8080/"
        },
        "outputId": "fe6f3d02-47b6-4137-e4cc-0879506b1374"
      },
      "execution_count": 25,
      "outputs": [
        {
          "output_type": "stream",
          "name": "stdout",
          "text": [
            "Количество сотрудников = 3\n",
            "Петрова Анна Алексеевна Ж 5\n",
            "Семенов Николай Михайлович М 2\n",
            "Михайлов Игорь Васильевич М 3\n",
            "Cамый \"молодой\": Семенов Николай Михайлович\n",
            "Cамый \"старый\": Петрова Анна Алексеевна\n",
            "Введите букву начала имени = и\n",
            "У мужчин таких имен больше\n"
          ]
        }
      ]
    },
    {
      "cell_type": "markdown",
      "source": [
        "34. Вводится список из n годовых вкладов, предлагаемых банками, где все значения разделены пробелом и сами не содержат пробелов; наименование банка уникально; Сумма : сумма для открытия вклада в руб. (целое число, >0); Процент : годовой процент по вкладу (вещественное число, (0,100]). Сохраните введенные данные в виде списка словарей. Далее определите (гарантируется, что искомый банк - один): самый доступный банк (с наименьшей первоначальной суммой); самый выгодный банк, принимая, что за год прибыль = сумма * процент / 100. При выводе финансовых значений оставьте два знака после запятой."
      ],
      "metadata": {
        "id": "YNbtxCI4kSbH"
      }
    },
    {
      "cell_type": "code",
      "source": [
        "# Выполнила: Паньшина З.А.\n",
        "# Группа: АБП-231\n",
        "\n",
        "# 1. Заполнение списка\n",
        "\n",
        "# Используйте данный список для собственных тестов,\n",
        "# чтобы избежать постоянного ввода значений\n",
        "# Перед автоматической проверкой удалите его\n",
        "# и используйте ввод с клавиатуры\n",
        "# deposits = [\n",
        "#    {\"name\": \"Банк_1\", \"initial_sum\": 50000, \"rate\": 5.2},\n",
        "#    {\"name\": \"Банк_2\", \"initial_sum\": 20000, \"rate\": 3.7},\n",
        "#    {\"name\": \"Банк_3\", \"initial_sum\": 45000, \"rate\": 6.8},\n",
        "# ]\n",
        "\n",
        "n = int(input(\"Количество банков = \"))\n",
        "\n",
        "deposits = []\n",
        "for i in range(n):\n",
        "    line = input().split()\n",
        "    name = line[0]\n",
        "    initial_sum = int(line[1])\n",
        "    rate = float(line[2])\n",
        "    deposits.append({\n",
        "        \"name\": name,\n",
        "        \"initial_sum\": initial_sum,\n",
        "        \"rate\": rate\n",
        "    })\n",
        "\n",
        "# 2. Самый доступный банк (с наименьшей первоначальной суммой)\n",
        "min_deposit = min(deposits, key=lambda x: x[\"initial_sum\"])\n",
        "print(f\"Самый доступный банк: {min_deposit['name']}, первоначальная сумма: {min_deposit['initial_sum']:.2f} руб.\")\n",
        "\n",
        "# 3. Самый выгодный банк\n",
        "#    прибыль = сумма * процент / 100\n",
        "\n",
        "max_prib = 0\n",
        "best_bank = None\n",
        "for deposit in deposits:\n",
        "    prib = deposit[\"initial_sum\"] * deposit[\"rate\"] / 100\n",
        "    if prib > max_prib:\n",
        "        max_prib = prib\n",
        "        best_bank = deposit\n",
        "\n",
        "print(f\"Самый выгодный банк: {best_bank['name']}, прибыль: {max_prib:.2f} руб.\")"
      ],
      "metadata": {
        "id": "OEVcRaWRkUk0",
        "colab": {
          "base_uri": "https://localhost:8080/"
        },
        "outputId": "aa8af3ee-641e-43ee-be3c-699160e7c5f3"
      },
      "execution_count": 32,
      "outputs": [
        {
          "output_type": "stream",
          "name": "stdout",
          "text": [
            "Количество банков = 3\n",
            "Банк_1 50000 5.2\n",
            "Банк_2 20000 3.7\n",
            "Банк_3 45000 6.8\n",
            "Самый доступный банк: Банк_2, первоначальная сумма: 20000.00 руб.\n",
            "Самый выгодный банк: Банк_3, прибыль: 3060.00 руб.\n"
          ]
        }
      ]
    }
  ]
}